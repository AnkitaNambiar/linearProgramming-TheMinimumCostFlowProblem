{
 "cells": [
  {
   "cell_type": "markdown",
   "id": "1e131892",
   "metadata": {},
   "source": [
    "Solved for a class exercise in the course 'Optimization And Simulation Methods.' \n",
    "\n",
    "-- A. Nambiar"
   ]
  },
  {
   "cell_type": "markdown",
   "id": "fcb29ad9",
   "metadata": {},
   "source": [
    "# The Minimum Cost Flow Problem"
   ]
  },
  {
   "cell_type": "markdown",
   "id": "5169a4d4",
   "metadata": {},
   "source": [
    "# Problem:\n",
    "\n",
    "Given a network, with a cost c_ij , upper bound u_ij , and lower bound 0 associated with each directed path (i, j), and supply of, or demand for, b(i) units of some commodity at each node.\n",
    "\n",
    "Minimize the cost flow of the network."
   ]
  },
  {
   "cell_type": "markdown",
   "id": "84fbb763",
   "metadata": {},
   "source": [
    "##### Problem Restated\n",
    "\n",
    "In simpler terms, we are given a network for the flow of some units of a commodity. There are set paths (i, j), each with a cost (c_ij) for taking the path. The paths also have an upper limit (u_ij) for the amount of commodity that can be taken through. \n",
    "\n",
    "Furthermore, the network has nodes, which can be thought of as trading ports. Each node, has a demand or supply for b(i) units of some commodity. \n",
    "\n",
    "Satisfying these conditions, minimize the cost flow of the network."
   ]
  },
  {
   "cell_type": "markdown",
   "id": "0f52b8ca",
   "metadata": {},
   "source": [
    "### Problem Data"
   ]
  },
  {
   "cell_type": "code",
   "execution_count": 57,
   "id": "5a102c38",
   "metadata": {},
   "outputs": [],
   "source": [
    "#import Pkg\n",
    "#using Pkg\n",
    "#Pkg.add(\"CSV\")\n",
    "#Pkg.add(\"DataFrames\")\n",
    "#Pkg.add(\"ImageView\")"
   ]
  },
  {
   "cell_type": "code",
   "execution_count": 44,
   "id": "ec905a95",
   "metadata": {},
   "outputs": [
    {
     "name": "stdout",
     "output_type": "stream",
     "text": [
      "\u001b[1m8×4 DataFrame\u001b[0m\n",
      "\u001b[1m Row \u001b[0m│\u001b[1m start_node_i \u001b[0m\u001b[1m end_node_j \u001b[0m\u001b[1m c_ij  \u001b[0m\u001b[1m u_ij    \u001b[0m\n",
      "     │\u001b[90m Int64        \u001b[0m\u001b[90m Int64      \u001b[0m\u001b[90m Int64 \u001b[0m\u001b[90m Float64 \u001b[0m\n",
      "─────┼──────────────────────────────────────────\n",
      "   1 │            1           2      2    Inf\n",
      "   2 │            1           3      5    Inf\n",
      "   3 │            2           3      3    Inf\n",
      "   4 │            3           4      1    Inf\n",
      "   5 │            3           5      2      1.0\n",
      "   6 │            4           1      0    Inf\n",
      "   7 │            4           5      2    Inf\n",
      "   8 │            5           2      4    Inf"
     ]
    }
   ],
   "source": [
    "using CSV\n",
    "using DataFrames\n",
    "\n",
    "df = CSV.read(\"/Users/ankitanambiar/Desktop/simple_network.csv\", DataFrame)\n",
    "print(df)"
   ]
  },
  {
   "cell_type": "markdown",
   "id": "976ef364",
   "metadata": {},
   "source": [
    "### Network Image\n",
    "\n",
    "###### The image of the network can be found on the project's Github profile.\n",
    "\n",
    "The arrows indicate possible paths in the network. The numbers on each arrow represent the cost of taking the path.\n",
    "\n",
    "The circles with numbers represent the Node values. The values outside of the circles represent the units of some commodity that the Node will take when it is passed through."
   ]
  },
  {
   "cell_type": "markdown",
   "id": "9a4d1063",
   "metadata": {},
   "source": [
    "# Solution (Preperation for Linear-Programming)"
   ]
  },
  {
   "cell_type": "markdown",
   "id": "6e224c9d",
   "metadata": {},
   "source": [
    "### Variable Creation\n",
    "\n",
    "Each variable is the path (i, j) between 2 nodes (visualized by an arrow). \n",
    "\n",
    "Ex: x1 is the path from Node 1 to Node 2.\n",
    "\n",
    "x1 = (1,2)\n",
    "\n",
    "x2 = (1,3)\n",
    "\n",
    "x3 = (2,3)\n",
    "\n",
    "x4 = (3,4)\n",
    "\n",
    "x5 = (3,5)\n",
    "\n",
    "x6 = (4,5)\n",
    "\n",
    "x7 = (4,1)\n",
    "\n",
    "x8 = (5,2) "
   ]
  },
  {
   "cell_type": "markdown",
   "id": "102e1bf9",
   "metadata": {},
   "source": [
    "### Objective Function Creation\n",
    "\n",
    "The objective function will find the minimized cost of using the above paths. In the equation, each path is multiplied by the corresponding cost, as seen in the network image.\n",
    "\n",
    "For example, Path x1 (1,2) has a cost of 2, so it's cost is represented by 2x1.\n",
    "\n",
    "Minimize, 2*x1 + 5*x2 + 3*x3 + 1*x4 + 2*x5 + 2*x6 + 0*x7 + 4*x8"
   ]
  },
  {
   "cell_type": "markdown",
   "id": "b61ffc67",
   "metadata": {},
   "source": [
    "### Constraint Creation\n",
    "\n",
    "Set constraints. Make sure the movement of commodities meet the Node Limits. \n",
    "\n",
    "###### Node 1 Example\n",
    "At Node 1, 5 goods are kept. To meet the limit, check the paths that lead into and out of Node 1. \n",
    "\n",
    "\n",
    "Paths moving into Node 1: Path from Node 4 to Node 1 (x7)\n",
    "\n",
    "\n",
    "Paths moving out of Node 1: Path from Node 1 to 3 (x2), Path from Node 1 to 2 (x1)\n",
    "\n",
    "Since Node 1 takes 5 goods, the total goods at Node 1 is: x7 - x1 - x2 - 5 = 0, as written below.\n",
    "\n",
    "###### Total Constraints\n",
    "\n",
    "Node 1: x7 - x1 - x2 = 5\n",
    "\n",
    "Node 2: x1 + x8 - x3 = -10\n",
    "\n",
    "Node 3: x3 + x2 - x4 - x5 = 0\n",
    "\n",
    "Node 4: x4 - x7 - x6 = 2\n",
    "\n",
    "Node 5: x5 + x6 - x8 = 3\n",
    "\n",
    "Upper Goods Limit for Path 5: x5 <= 1"
   ]
  },
  {
   "cell_type": "markdown",
   "id": "6b35d660",
   "metadata": {},
   "source": [
    "# Solution in Julia Code "
   ]
  },
  {
   "cell_type": "markdown",
   "id": "c7cf9c80",
   "metadata": {},
   "source": [
    "import Optimization packages into Julia"
   ]
  },
  {
   "cell_type": "code",
   "execution_count": 59,
   "id": "24a44145",
   "metadata": {},
   "outputs": [],
   "source": [
    "#import Pkg\n",
    "#Pkg.add(\"JuMP\")\n",
    "#Pkg.add(\"Clp\")\n",
    "#Pkg.add(\"PyPlot\")\n",
    "#Pkg.add(\"GLPK\")"
   ]
  },
  {
   "cell_type": "code",
   "execution_count": 21,
   "id": "0cd302be",
   "metadata": {},
   "outputs": [
    {
     "data": {
      "text/latex": [
       "$$ \\begin{aligned}\n",
       "\\min\\quad & 2 x1 + 5 x2 + 3 x3 + x4 + 2 x5 + 2 x6 + 4 x8\\\\\n",
       "\\text{Subject to} \\quad & -x1 - x2 + x7 = 5.0\\\\\n",
       " & x4 - x6 - x7 = 2.0\\\\\n",
       " & x2 + x3 - x4 - x5 = 0.0\\\\\n",
       " & x1 - x3 + x8 = -10.0\\\\\n",
       " & x5 + x6 - x8 = 3.0\\\\\n",
       " & x5 \\leq 1.0\\\\\n",
       " & x1 \\geq 0.0\\\\\n",
       " & x2 \\geq 0.0\\\\\n",
       " & x3 \\geq 0.0\\\\\n",
       " & x4 \\geq 0.0\\\\\n",
       " & x5 \\geq 0.0\\\\\n",
       " & x6 \\geq 0.0\\\\\n",
       " & x7 \\geq 0.0\\\\\n",
       " & x8 \\geq 0.0\\\\\n",
       "\\end{aligned} $$"
      ]
     },
     "metadata": {},
     "output_type": "display_data"
    }
   ],
   "source": [
    "using JuMP, GLPK\n",
    "\n",
    "myModel = Model(GLPK.Optimizer)\n",
    "@variable(myModel, x1 >= 0)\n",
    "@variable(myModel, x2 >= 0)\n",
    "@variable(myModel, x3 >= 0)\n",
    "@variable(myModel, x4 >= 0)\n",
    "@variable(myModel, x5 >= 0)\n",
    "@variable(myModel, x6 >= 0)\n",
    "@variable(myModel, x7 >= 0)\n",
    "@variable(myModel, x8 >= 0)\n",
    "\n",
    "@constraint(myModel, x7 - x1 - x2 == 5)\n",
    "@constraint(myModel, x4 - x7 - x6 == 2)\n",
    "@constraint(myModel, x3 + x2 - x4 - x5 == 0)\n",
    "@constraint(myModel, x1 + x8 - x3 == -10)\n",
    "@constraint(myModel, x5 + x6 - x8 == 3)\n",
    "@constraint(myModel, x5 <= 1)\n",
    "\n",
    "@objective(myModel, Min, 2*x1 + 5*x2 + 3*x3 + 1*x4 + 2*x5 + 2*x6 + 0*x7 + 4*x8)\n",
    "\n",
    "print(myModel)"
   ]
  },
  {
   "cell_type": "code",
   "execution_count": 22,
   "id": "13b18bed",
   "metadata": {},
   "outputs": [
    {
     "name": "stdout",
     "output_type": "stream",
     "text": [
      "  0.002423 seconds (240 allocations: 15.516 KiB)\n",
      "Objective value: 45.0\n",
      "x1 = 0.0\n",
      "x2 = 0.0\n",
      "x3 = 10.0\n",
      "x4 = 9.0\n",
      "x5 = 1.0\n",
      "x6 = 2.0\n",
      "x7 = 5.0\n",
      "x8 = 0.0\n"
     ]
    }
   ],
   "source": [
    "@time begin\n",
    "status = optimize!(myModel)\n",
    "end\n",
    "println(\"Objective value: \", JuMP.objective_value(myModel))\n",
    "println(\"x1 = \", JuMP.value(x1))\n",
    "println(\"x2 = \", JuMP.value(x2))\n",
    "println(\"x3 = \", JuMP.value(x3))\n",
    "println(\"x4 = \", JuMP.value(x4))\n",
    "println(\"x5 = \", JuMP.value(x5))\n",
    "println(\"x6 = \", JuMP.value(x6))                    \n",
    "println(\"x7 = \", JuMP.value(x7))\n",
    "println(\"x8 = \", JuMP.value(x8))    "
   ]
  },
  {
   "cell_type": "markdown",
   "id": "30ca0278",
   "metadata": {},
   "source": [
    "# Solution Explained"
   ]
  },
  {
   "cell_type": "markdown",
   "id": "4bce1fde",
   "metadata": {},
   "source": [
    "###### The solution shows us that the path usage at the equilibrium state where the minimimum cost flow occurs.\n",
    "\n",
    "As seen above, with linear programming, I found:\n",
    "\n",
    "Objective value: 45.0\n",
    "\n",
    "x1 = 0.0\n",
    "\n",
    "x2 = 0.0\n",
    "\n",
    "x3 = 10.0\n",
    "\n",
    "x4 = 9.0\n",
    "\n",
    "x5 = 1.0\n",
    "\n",
    "x6 = 2.0\n",
    "\n",
    "x7 = 5.0\n",
    "\n",
    "x8 = 0.0\n",
    "\n",
    "###### The minimum cost for the network's flow is 45. \n",
    "\n",
    "The minimized flow, only uses paths x3, x4, x5, x6, and x7. \n",
    "\n",
    "###### The values for each variable represent the number of times the path is used in the flow:\n",
    "\n",
    "\n",
    "x3 = (2,3) = 10 times\n",
    "\n",
    "x4 = (3,4) = 9 times\n",
    "\n",
    "x5 = (3,5) = 1 time\n",
    "\n",
    "x6 = (4,5) = 2 times\n",
    "\n",
    "x7 = (4,1) = 5 times\n",
    "\n",
    "\n",
    "The objective value for the minimized cost equals the sum of the cost of using paths x3, x4, x5, x6, and x7. \n",
    "\n",
    "Objective function: \n",
    "\n",
    "2*x1 + 5*x2 + 3*x3 + 1*x4 + 2*x5 + 2*x6 + 0*x7 + 4*x8 \n",
    "\n",
    "           -->\n",
    "                                \n",
    "2(0) + 5(0) + 3(10) + 1(9) + 2(10) + 2(2) + 0(5) + 4(0) = 45"
   ]
  }
 ],
 "metadata": {
  "kernelspec": {
   "display_name": "Julia 1.8.4",
   "language": "julia",
   "name": "julia-1.8"
  },
  "language_info": {
   "file_extension": ".jl",
   "mimetype": "application/julia",
   "name": "julia",
   "version": "1.8.4"
  }
 },
 "nbformat": 4,
 "nbformat_minor": 5
}
